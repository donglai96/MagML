{
 "cells": [
  {
   "cell_type": "markdown",
   "id": "93dd0990-a9df-45ed-8cde-f1f452a84cec",
   "metadata": {},
   "source": [
    "# MagML Tutorial Step2\n",
    "\n",
    "Welcome to the step2!\n",
    "\n",
    "Congrats on finishing the step1. Now we will focus on the electron dynamics in the radiation belt. The mission we use is Van Allen Probe (RBSP) mission. This mission has a good time and space coverage of the radiation belt which is a perfect dataset for machine learning study.\n"
   ]
  },
  {
   "cell_type": "markdown",
   "id": "aebf65e3-482f-4795-bb4d-7a8fdf15e16f",
   "metadata": {},
   "source": [
    "Lets download the data first, this takes a while. I have already downloaded the data files so I will ignre this step.\n",
    "The data comes from REPT onboard Van Allen Probe."
   ]
  },
  {
   "cell_type": "code",
   "execution_count": 1,
   "id": "fe26a443-71c5-4d0b-93b6-e86eb8cb7ad3",
   "metadata": {
    "scrolled": true
   },
   "outputs": [],
   "source": [
    "import pyspedas\n",
    "# use the following code to download the files\n",
    "#rept_vars = pyspedas.projects.rbsp.rept(trange=['2012-10-01', '2017-10-01'], level='l2', rel='rel03',downloadonly=True)\n"
   ]
  },
  {
   "cell_type": "markdown",
   "id": "8b03d044-7e45-4c97-a5c5-b53f1e32918c",
   "metadata": {},
   "source": [
    "However, the satellite data time resolution is very high, and each cdf file stores more than one datatype, we will use the hyperload function in the MagML toolkit to visualize and prepare the data.\n",
    "Notice here we use time_cadence = 300, which is 5 minutes, so we will result in a uniform time array with 5 minute resolution, we will fetch data on this uniform time array, and we are looking for data_items Lshell: L and the electron flux: FESA. "
   ]
  },
  {
   "cell_type": "code",
   "execution_count": 1,
   "id": "57a854bf-9193-4087-9d83-fe1a9da1129a",
   "metadata": {},
   "outputs": [
    {
     "name": "stdout",
     "output_type": "stream",
     "text": [
      "Months to process: ['2012-10-01' '2012-11-01' '2012-12-01' '2013-01-01' '2013-02-01'\n",
      " '2013-03-01' '2013-04-01' '2013-05-01' '2013-06-01' '2013-07-01'\n",
      " '2013-08-01' '2013-09-01' '2013-10-01' '2013-11-01' '2013-12-01'\n",
      " '2014-01-01' '2014-02-01' '2014-03-01' '2014-04-01' '2014-05-01'\n",
      " '2014-06-01' '2014-07-01' '2014-08-01' '2014-09-01' '2014-10-01'\n",
      " '2014-11-01' '2014-12-01' '2015-01-01' '2015-02-01' '2015-03-01'\n",
      " '2015-04-01' '2015-05-01' '2015-06-01' '2015-07-01' '2015-08-01'\n",
      " '2015-09-01' '2015-10-01' '2015-11-01' '2015-12-01' '2016-01-01'\n",
      " '2016-02-01' '2016-03-01' '2016-04-01' '2016-05-01' '2016-06-01'\n",
      " '2016-07-01' '2016-08-01' '2016-09-01' '2016-10-01' '2016-11-01'\n",
      " '2016-12-01' '2017-01-01' '2017-02-01' '2017-03-01' '2017-04-01'\n",
      " '2017-05-01' '2017-06-01' '2017-07-01' '2017-08-01' '2017-09-01'\n",
      " '2017-10-01']\n"
     ]
    },
    {
     "name": "stderr",
     "output_type": "stream",
     "text": [
      "Processing Months:   0%|                                                                                           | 0/60 [00:00<?, ?it/s]"
     ]
    },
    {
     "name": "stdout",
     "output_type": "stream",
     "text": [
      "Processing 2012-10-01 -> 2012-11-01\n"
     ]
    },
    {
     "name": "stderr",
     "output_type": "stream",
     "text": [
      "Processing Months:   2%|█▍                                                                                 | 1/60 [00:22<22:22, 22.75s/it]"
     ]
    },
    {
     "name": "stdout",
     "output_type": "stream",
     "text": [
      "Processing 2012-11-01 -> 2012-12-01\n"
     ]
    },
    {
     "name": "stderr",
     "output_type": "stream",
     "text": [
      "Processing Months:   3%|██▊                                                                                | 2/60 [00:44<21:33, 22.30s/it]"
     ]
    },
    {
     "name": "stdout",
     "output_type": "stream",
     "text": [
      "Processing 2012-12-01 -> 2013-01-01\n"
     ]
    },
    {
     "name": "stderr",
     "output_type": "stream",
     "text": [
      "Processing Months:   5%|████▏                                                                              | 3/60 [01:08<21:56, 23.10s/it]"
     ]
    },
    {
     "name": "stdout",
     "output_type": "stream",
     "text": [
      "Processing 2013-01-01 -> 2013-02-01\n"
     ]
    },
    {
     "name": "stderr",
     "output_type": "stream",
     "text": [
      "Processing Months:   7%|█████▌                                                                             | 4/60 [01:31<21:25, 22.95s/it]"
     ]
    },
    {
     "name": "stdout",
     "output_type": "stream",
     "text": [
      "Processing 2013-02-01 -> 2013-03-01\n"
     ]
    },
    {
     "name": "stderr",
     "output_type": "stream",
     "text": [
      "Processing Months:   8%|██████▉                                                                            | 5/60 [01:51<19:59, 21.81s/it]"
     ]
    },
    {
     "name": "stdout",
     "output_type": "stream",
     "text": [
      "Processing 2013-03-01 -> 2013-04-01\n"
     ]
    },
    {
     "name": "stderr",
     "output_type": "stream",
     "text": [
      "Processing Months:  10%|████████▎                                                                          | 6/60 [02:14<19:55, 22.13s/it]"
     ]
    },
    {
     "name": "stdout",
     "output_type": "stream",
     "text": [
      "Processing 2013-04-01 -> 2013-05-01\n"
     ]
    },
    {
     "name": "stderr",
     "output_type": "stream",
     "text": [
      "Processing Months:  12%|█████████▋                                                                         | 7/60 [02:35<19:29, 22.07s/it]"
     ]
    },
    {
     "name": "stdout",
     "output_type": "stream",
     "text": [
      "Processing 2013-05-01 -> 2013-06-01\n"
     ]
    },
    {
     "name": "stderr",
     "output_type": "stream",
     "text": [
      "Processing Months:  13%|███████████                                                                        | 8/60 [02:58<19:15, 22.23s/it]"
     ]
    },
    {
     "name": "stdout",
     "output_type": "stream",
     "text": [
      "Processing 2013-06-01 -> 2013-07-01\n"
     ]
    },
    {
     "name": "stderr",
     "output_type": "stream",
     "text": [
      "Processing Months:  15%|████████████▍                                                                      | 9/60 [03:21<18:59, 22.34s/it]"
     ]
    },
    {
     "name": "stdout",
     "output_type": "stream",
     "text": [
      "Processing 2013-07-01 -> 2013-08-01\n"
     ]
    },
    {
     "name": "stderr",
     "output_type": "stream",
     "text": [
      "Processing Months:  17%|█████████████▋                                                                    | 10/60 [03:43<18:34, 22.30s/it]"
     ]
    },
    {
     "name": "stdout",
     "output_type": "stream",
     "text": [
      "Processing 2013-08-01 -> 2013-09-01\n"
     ]
    },
    {
     "name": "stderr",
     "output_type": "stream",
     "text": [
      "Processing Months:  18%|███████████████                                                                   | 11/60 [04:06<18:21, 22.49s/it]"
     ]
    },
    {
     "name": "stdout",
     "output_type": "stream",
     "text": [
      "Processing 2013-09-01 -> 2013-10-01\n"
     ]
    },
    {
     "name": "stderr",
     "output_type": "stream",
     "text": [
      "Processing Months:  20%|████████████████▍                                                                 | 12/60 [04:27<17:46, 22.21s/it]"
     ]
    },
    {
     "name": "stdout",
     "output_type": "stream",
     "text": [
      "Processing 2013-10-01 -> 2013-11-01\n"
     ]
    },
    {
     "name": "stderr",
     "output_type": "stream",
     "text": [
      "Processing Months:  22%|█████████████████▊                                                                | 13/60 [04:50<17:35, 22.47s/it]"
     ]
    },
    {
     "name": "stdout",
     "output_type": "stream",
     "text": [
      "Processing 2013-11-01 -> 2013-12-01\n"
     ]
    },
    {
     "name": "stderr",
     "output_type": "stream",
     "text": [
      "Processing Months:  23%|███████████████████▏                                                              | 14/60 [05:13<17:09, 22.37s/it]"
     ]
    },
    {
     "name": "stdout",
     "output_type": "stream",
     "text": [
      "Processing 2013-12-01 -> 2014-01-01\n"
     ]
    },
    {
     "name": "stderr",
     "output_type": "stream",
     "text": [
      "Processing Months:  25%|████████████████████▌                                                             | 15/60 [05:35<16:47, 22.38s/it]"
     ]
    },
    {
     "name": "stdout",
     "output_type": "stream",
     "text": [
      "Processing 2014-01-01 -> 2014-02-01\n"
     ]
    },
    {
     "name": "stderr",
     "output_type": "stream",
     "text": [
      "Processing Months:  27%|█████████████████████▊                                                            | 16/60 [05:58<16:32, 22.56s/it]"
     ]
    },
    {
     "name": "stdout",
     "output_type": "stream",
     "text": [
      "Processing 2014-02-01 -> 2014-03-01\n"
     ]
    },
    {
     "name": "stderr",
     "output_type": "stream",
     "text": [
      "Processing Months:  28%|███████████████████████▏                                                          | 17/60 [06:18<15:34, 21.73s/it]"
     ]
    },
    {
     "name": "stdout",
     "output_type": "stream",
     "text": [
      "Processing 2014-03-01 -> 2014-04-01\n"
     ]
    },
    {
     "name": "stderr",
     "output_type": "stream",
     "text": [
      "Processing Months:  30%|████████████████████████▌                                                         | 18/60 [06:40<15:22, 21.96s/it]"
     ]
    },
    {
     "name": "stdout",
     "output_type": "stream",
     "text": [
      "Processing 2014-04-01 -> 2014-05-01\n"
     ]
    },
    {
     "name": "stderr",
     "output_type": "stream",
     "text": [
      "Processing Months:  32%|█████████████████████████▉                                                        | 19/60 [07:02<15:01, 21.99s/it]"
     ]
    },
    {
     "name": "stdout",
     "output_type": "stream",
     "text": [
      "Processing 2014-05-01 -> 2014-06-01\n"
     ]
    },
    {
     "name": "stderr",
     "output_type": "stream",
     "text": [
      "Processing Months:  33%|███████████████████████████▎                                                      | 20/60 [07:25<14:43, 22.10s/it]"
     ]
    },
    {
     "name": "stdout",
     "output_type": "stream",
     "text": [
      "Processing 2014-06-01 -> 2014-07-01\n"
     ]
    },
    {
     "name": "stderr",
     "output_type": "stream",
     "text": [
      "Processing Months:  35%|████████████████████████████▋                                                     | 21/60 [07:46<14:11, 21.83s/it]"
     ]
    },
    {
     "name": "stdout",
     "output_type": "stream",
     "text": [
      "Processing 2014-07-01 -> 2014-08-01\n"
     ]
    },
    {
     "name": "stderr",
     "output_type": "stream",
     "text": [
      "Processing Months:  37%|██████████████████████████████                                                    | 22/60 [08:08<13:53, 21.92s/it]"
     ]
    },
    {
     "name": "stdout",
     "output_type": "stream",
     "text": [
      "Processing 2014-08-01 -> 2014-09-01\n"
     ]
    },
    {
     "name": "stderr",
     "output_type": "stream",
     "text": [
      "Processing Months:  38%|███████████████████████████████▍                                                  | 23/60 [08:31<13:38, 22.12s/it]"
     ]
    },
    {
     "name": "stdout",
     "output_type": "stream",
     "text": [
      "Processing 2014-09-01 -> 2014-10-01\n"
     ]
    },
    {
     "name": "stderr",
     "output_type": "stream",
     "text": [
      "Processing Months:  40%|████████████████████████████████▊                                                 | 24/60 [08:52<13:08, 21.90s/it]"
     ]
    },
    {
     "name": "stdout",
     "output_type": "stream",
     "text": [
      "Processing 2014-10-01 -> 2014-11-01\n"
     ]
    },
    {
     "name": "stderr",
     "output_type": "stream",
     "text": [
      "Processing Months:  42%|██████████████████████████████████▏                                               | 25/60 [09:15<13:00, 22.31s/it]"
     ]
    },
    {
     "name": "stdout",
     "output_type": "stream",
     "text": [
      "Processing 2014-11-01 -> 2014-12-01\n"
     ]
    },
    {
     "name": "stderr",
     "output_type": "stream",
     "text": [
      "Processing Months:  43%|███████████████████████████████████▌                                              | 26/60 [09:37<12:29, 22.04s/it]"
     ]
    },
    {
     "name": "stdout",
     "output_type": "stream",
     "text": [
      "Processing 2014-12-01 -> 2015-01-01\n"
     ]
    },
    {
     "name": "stderr",
     "output_type": "stream",
     "text": [
      "Processing Months:  45%|████████████████████████████████████▉                                             | 27/60 [09:59<12:13, 22.23s/it]"
     ]
    },
    {
     "name": "stdout",
     "output_type": "stream",
     "text": [
      "Processing 2015-01-01 -> 2015-02-01\n"
     ]
    },
    {
     "name": "stderr",
     "output_type": "stream",
     "text": [
      "Processing Months:  47%|██████████████████████████████████████▎                                           | 28/60 [10:22<11:57, 22.43s/it]"
     ]
    },
    {
     "name": "stdout",
     "output_type": "stream",
     "text": [
      "Processing 2015-02-01 -> 2015-03-01\n"
     ]
    },
    {
     "name": "stderr",
     "output_type": "stream",
     "text": [
      "Processing Months:  48%|███████████████████████████████████████▋                                          | 29/60 [10:43<11:23, 22.04s/it]"
     ]
    },
    {
     "name": "stdout",
     "output_type": "stream",
     "text": [
      "Processing 2015-03-01 -> 2015-04-01\n"
     ]
    },
    {
     "name": "stderr",
     "output_type": "stream",
     "text": [
      "Processing Months:  50%|█████████████████████████████████████████                                         | 30/60 [11:07<11:15, 22.51s/it]"
     ]
    },
    {
     "name": "stdout",
     "output_type": "stream",
     "text": [
      "Processing 2015-04-01 -> 2015-05-01\n"
     ]
    },
    {
     "name": "stderr",
     "output_type": "stream",
     "text": [
      "Processing Months:  52%|██████████████████████████████████████████▎                                       | 31/60 [11:30<11:01, 22.80s/it]"
     ]
    },
    {
     "name": "stdout",
     "output_type": "stream",
     "text": [
      "Processing 2015-05-01 -> 2015-06-01\n"
     ]
    },
    {
     "name": "stderr",
     "output_type": "stream",
     "text": [
      "Processing Months:  53%|███████████████████████████████████████████▋                                      | 32/60 [11:53<10:40, 22.88s/it]"
     ]
    },
    {
     "name": "stdout",
     "output_type": "stream",
     "text": [
      "Processing 2015-06-01 -> 2015-07-01\n"
     ]
    },
    {
     "name": "stderr",
     "output_type": "stream",
     "text": [
      "Processing Months:  55%|█████████████████████████████████████████████                                     | 33/60 [12:16<10:14, 22.76s/it]"
     ]
    },
    {
     "name": "stdout",
     "output_type": "stream",
     "text": [
      "Processing 2015-07-01 -> 2015-08-01\n"
     ]
    },
    {
     "name": "stderr",
     "output_type": "stream",
     "text": [
      "Processing Months:  57%|██████████████████████████████████████████████▍                                   | 34/60 [12:40<09:59, 23.07s/it]"
     ]
    },
    {
     "name": "stdout",
     "output_type": "stream",
     "text": [
      "Processing 2015-08-01 -> 2015-09-01\n"
     ]
    },
    {
     "name": "stderr",
     "output_type": "stream",
     "text": [
      "Processing Months:  58%|███████████████████████████████████████████████▊                                  | 35/60 [13:03<09:35, 23.01s/it]"
     ]
    },
    {
     "name": "stdout",
     "output_type": "stream",
     "text": [
      "Processing 2015-09-01 -> 2015-10-01\n"
     ]
    },
    {
     "name": "stderr",
     "output_type": "stream",
     "text": [
      "Processing Months:  60%|█████████████████████████████████████████████████▏                                | 36/60 [13:24<09:03, 22.66s/it]"
     ]
    },
    {
     "name": "stdout",
     "output_type": "stream",
     "text": [
      "Processing 2015-10-01 -> 2015-11-01\n"
     ]
    },
    {
     "name": "stderr",
     "output_type": "stream",
     "text": [
      "Processing Months:  62%|██████████████████████████████████████████████████▌                               | 37/60 [13:48<08:47, 22.93s/it]"
     ]
    },
    {
     "name": "stdout",
     "output_type": "stream",
     "text": [
      "Processing 2015-11-01 -> 2015-12-01\n"
     ]
    },
    {
     "name": "stderr",
     "output_type": "stream",
     "text": [
      "Processing Months:  63%|███████████████████████████████████████████████████▉                              | 38/60 [14:10<08:18, 22.68s/it]"
     ]
    },
    {
     "name": "stdout",
     "output_type": "stream",
     "text": [
      "Processing 2015-12-01 -> 2016-01-01\n"
     ]
    },
    {
     "name": "stderr",
     "output_type": "stream",
     "text": [
      "Processing Months:  65%|█████████████████████████████████████████████████████▎                            | 39/60 [14:33<08:00, 22.87s/it]"
     ]
    },
    {
     "name": "stdout",
     "output_type": "stream",
     "text": [
      "Processing 2016-01-01 -> 2016-02-01\n"
     ]
    },
    {
     "name": "stderr",
     "output_type": "stream",
     "text": [
      "Processing Months:  67%|██████████████████████████████████████████████████████▋                           | 40/60 [14:57<07:40, 23.00s/it]"
     ]
    },
    {
     "name": "stdout",
     "output_type": "stream",
     "text": [
      "Processing 2016-02-01 -> 2016-03-01\n"
     ]
    },
    {
     "name": "stderr",
     "output_type": "stream",
     "text": [
      "Processing Months:  68%|████████████████████████████████████████████████████████                          | 41/60 [15:18<07:05, 22.39s/it]"
     ]
    },
    {
     "name": "stdout",
     "output_type": "stream",
     "text": [
      "Processing 2016-03-01 -> 2016-04-01\n"
     ]
    },
    {
     "name": "stderr",
     "output_type": "stream",
     "text": [
      "Processing Months:  70%|█████████████████████████████████████████████████████████▍                        | 42/60 [15:41<06:49, 22.74s/it]"
     ]
    },
    {
     "name": "stdout",
     "output_type": "stream",
     "text": [
      "Processing 2016-04-01 -> 2016-05-01\n"
     ]
    },
    {
     "name": "stderr",
     "output_type": "stream",
     "text": [
      "Processing Months:  72%|██████████████████████████████████████████████████████████▊                       | 43/60 [16:05<06:29, 22.89s/it]"
     ]
    },
    {
     "name": "stdout",
     "output_type": "stream",
     "text": [
      "Processing 2016-05-01 -> 2016-06-01\n"
     ]
    },
    {
     "name": "stderr",
     "output_type": "stream",
     "text": [
      "Processing Months:  73%|████████████████████████████████████████████████████████████▏                     | 44/60 [16:28<06:06, 22.92s/it]"
     ]
    },
    {
     "name": "stdout",
     "output_type": "stream",
     "text": [
      "Processing 2016-06-01 -> 2016-07-01\n"
     ]
    },
    {
     "name": "stderr",
     "output_type": "stream",
     "text": [
      "Processing Months:  75%|█████████████████████████████████████████████████████████████▌                    | 45/60 [16:50<05:41, 22.76s/it]"
     ]
    },
    {
     "name": "stdout",
     "output_type": "stream",
     "text": [
      "Processing 2016-07-01 -> 2016-08-01\n"
     ]
    },
    {
     "name": "stderr",
     "output_type": "stream",
     "text": [
      "Processing Months:  77%|██████████████████████████████████████████████████████████████▊                   | 46/60 [17:14<05:23, 23.10s/it]"
     ]
    },
    {
     "name": "stdout",
     "output_type": "stream",
     "text": [
      "Processing 2016-08-01 -> 2016-09-01\n"
     ]
    },
    {
     "name": "stderr",
     "output_type": "stream",
     "text": [
      "Processing Months:  78%|████████████████████████████████████████████████████████████████▏                 | 47/60 [17:37<05:02, 23.28s/it]"
     ]
    },
    {
     "name": "stdout",
     "output_type": "stream",
     "text": [
      "Processing 2016-09-01 -> 2016-10-01\n"
     ]
    },
    {
     "name": "stderr",
     "output_type": "stream",
     "text": [
      "Processing Months:  80%|█████████████████████████████████████████████████████████████████▌                | 48/60 [18:00<04:38, 23.19s/it]"
     ]
    },
    {
     "name": "stdout",
     "output_type": "stream",
     "text": [
      "Processing 2016-10-01 -> 2016-11-01\n"
     ]
    },
    {
     "name": "stderr",
     "output_type": "stream",
     "text": [
      "Processing Months:  82%|██████████████████████████████████████████████████████████████████▉               | 49/60 [18:24<04:15, 23.18s/it]"
     ]
    },
    {
     "name": "stdout",
     "output_type": "stream",
     "text": [
      "Processing 2016-11-01 -> 2016-12-01\n"
     ]
    },
    {
     "name": "stderr",
     "output_type": "stream",
     "text": [
      "Processing Months:  83%|████████████████████████████████████████████████████████████████████▎             | 50/60 [18:47<03:51, 23.17s/it]"
     ]
    },
    {
     "name": "stdout",
     "output_type": "stream",
     "text": [
      "Processing 2016-12-01 -> 2017-01-01\n"
     ]
    },
    {
     "name": "stderr",
     "output_type": "stream",
     "text": [
      "Processing Months:  85%|█████████████████████████████████████████████████████████████████████▋            | 51/60 [19:09<03:26, 22.99s/it]"
     ]
    },
    {
     "name": "stdout",
     "output_type": "stream",
     "text": [
      "Processing 2017-01-01 -> 2017-02-01\n"
     ]
    },
    {
     "name": "stderr",
     "output_type": "stream",
     "text": [
      "Processing Months:  87%|███████████████████████████████████████████████████████████████████████           | 52/60 [19:33<03:06, 23.30s/it]"
     ]
    },
    {
     "name": "stdout",
     "output_type": "stream",
     "text": [
      "Processing 2017-02-01 -> 2017-03-01\n"
     ]
    },
    {
     "name": "stderr",
     "output_type": "stream",
     "text": [
      "Processing Months:  88%|████████████████████████████████████████████████████████████████████████▍         | 53/60 [19:54<02:37, 22.46s/it]"
     ]
    },
    {
     "name": "stdout",
     "output_type": "stream",
     "text": [
      "Processing 2017-03-01 -> 2017-04-01\n"
     ]
    },
    {
     "name": "stderr",
     "output_type": "stream",
     "text": [
      "Processing Months:  90%|█████████████████████████████████████████████████████████████████████████▊        | 54/60 [20:17<02:15, 22.66s/it]"
     ]
    },
    {
     "name": "stdout",
     "output_type": "stream",
     "text": [
      "Processing 2017-04-01 -> 2017-05-01\n"
     ]
    },
    {
     "name": "stderr",
     "output_type": "stream",
     "text": [
      "Processing Months:  92%|███████████████████████████████████████████████████████████████████████████▏      | 55/60 [20:39<01:52, 22.57s/it]"
     ]
    },
    {
     "name": "stdout",
     "output_type": "stream",
     "text": [
      "Processing 2017-05-01 -> 2017-06-01\n"
     ]
    },
    {
     "name": "stderr",
     "output_type": "stream",
     "text": [
      "Processing Months:  93%|████████████████████████████████████████████████████████████████████████████▌     | 56/60 [21:02<01:30, 22.67s/it]"
     ]
    },
    {
     "name": "stdout",
     "output_type": "stream",
     "text": [
      "Processing 2017-06-01 -> 2017-07-01\n"
     ]
    },
    {
     "name": "stderr",
     "output_type": "stream",
     "text": [
      "Processing Months:  95%|█████████████████████████████████████████████████████████████████████████████▉    | 57/60 [21:25<01:08, 22.69s/it]"
     ]
    },
    {
     "name": "stdout",
     "output_type": "stream",
     "text": [
      "Processing 2017-07-01 -> 2017-08-01\n"
     ]
    },
    {
     "name": "stderr",
     "output_type": "stream",
     "text": [
      "Processing Months:  97%|███████████████████████████████████████████████████████████████████████████████▎  | 58/60 [21:49<00:45, 22.96s/it]"
     ]
    },
    {
     "name": "stdout",
     "output_type": "stream",
     "text": [
      "Processing 2017-08-01 -> 2017-09-01\n"
     ]
    },
    {
     "name": "stderr",
     "output_type": "stream",
     "text": [
      "Processing Months:  98%|████████████████████████████████████████████████████████████████████████████████▋ | 59/60 [22:12<00:22, 22.96s/it]"
     ]
    },
    {
     "name": "stdout",
     "output_type": "stream",
     "text": [
      "Processing 2017-09-01 -> 2017-10-01\n"
     ]
    },
    {
     "name": "stderr",
     "output_type": "stream",
     "text": [
      "Processing Months: 100%|██████████████████████████████████████████████████████████████████████████████████| 60/60 [22:35<00:00, 22.59s/it]\n"
     ]
    }
   ],
   "source": [
    "import magml.data.rbsp as rbsp\n",
    "start_time = '2012-10-01'\n",
    "end_time = '2017-10-01'\n",
    "\n",
    "# write in parallel in the future\n",
    "time_array, data_all = rbsp.hyperload(start_time, end_time, time_cadence=300, data_items=['L','FESA'], v_index = [None,0])"
   ]
  },
  {
   "cell_type": "code",
   "execution_count": 5,
   "id": "e2043f2c-14c7-478e-8116-70652c4f900d",
   "metadata": {},
   "outputs": [],
   "source": [
    "# save this for now\n",
    "import numpy as np\n",
    "with open('step2.npy', 'wb') as f:\n",
    "    np.save(f, time_array)\n",
    "    np.save(f, data_all)"
   ]
  },
  {
   "cell_type": "code",
   "execution_count": null,
   "id": "ef9aa03f-872c-4ea2-8413-510ece58fa50",
   "metadata": {},
   "outputs": [],
   "source": []
  }
 ],
 "metadata": {
  "kernelspec": {
   "display_name": "Python 3 (ipykernel)",
   "language": "python",
   "name": "python3"
  },
  "language_info": {
   "codemirror_mode": {
    "name": "ipython",
    "version": 3
   },
   "file_extension": ".py",
   "mimetype": "text/x-python",
   "name": "python",
   "nbconvert_exporter": "python",
   "pygments_lexer": "ipython3",
   "version": "3.10.6"
  }
 },
 "nbformat": 4,
 "nbformat_minor": 5
}
